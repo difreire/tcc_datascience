{
 "cells": [
  {
   "cell_type": "markdown",
   "id": "e76ba23d",
   "metadata": {},
   "source": [
    "<h3>Início</h3>"
   ]
  },
  {
   "cell_type": "code",
   "execution_count": null,
   "id": "88c7e2d4",
   "metadata": {},
   "outputs": [],
   "source": [
    "from pandas_datareader import data as pd\n",
    "from datetime import datetime\n",
    "\n",
    "import yfinance as yf\n",
    "yf.pdr_override()\n",
    "inicio = \"2014-09-17\"\n",
    "fim = \"2023-03-14\"\n",
    "df = pd.DataReader(\"BTC-USD\",inicio,fim)\n",
    "df.index = df.index.date\n",
    "df.index.name = \"Date\""
   ]
  },
  {
   "cell_type": "code",
   "execution_count": null,
   "id": "cb8dacc4",
   "metadata": {},
   "outputs": [],
   "source": [
    "print('Dataset BTC-USD\\n')\n",
    "df.head(10)"
   ]
  },
  {
   "cell_type": "code",
   "execution_count": null,
   "id": "cbf1951c",
   "metadata": {
    "scrolled": true
   },
   "outputs": [],
   "source": [
    "df.info()"
   ]
  },
  {
   "cell_type": "markdown",
   "id": "f381e539",
   "metadata": {},
   "source": [
    "<h3>Coleta de Dados - Dados históricos do valor dos criptoativos</h3>"
   ]
  },
  {
   "cell_type": "code",
   "execution_count": null,
   "id": "432adfeb",
   "metadata": {},
   "outputs": [],
   "source": [
    "from pandas_datareader import data as pdr\n",
    "from datetime import datetime, date\n",
    "import numpy as np\n",
    "import seaborn as sns\n",
    "import matplotlib.pyplot as plt\n",
    "import warnings\n",
    "import yfinance as yf\n",
    "import pandas as pd\n",
    "\n",
    "class CriptoClass(): pass\n",
    "valores = CriptoClass()\n",
    "\n",
    "yf.pdr_override()\n",
    "criptoIndice         = 0\n",
    "valores.listaCriptos = ['BTC-USD', 'ETH-USD', 'XRP-USD', 'ADA-USD', 'SOL-USD'] \n",
    "valores.dataInicio   = ['2014-09-17','2017-11-09','2017-11-09','2017-11-09','2020-04-10']\n",
    "valores.dataFim      = '2023-03-14'\n",
    "dadosCripto = pdr.DataReader(valores.listaCriptos[criptoIndice], valores.dataInicio[criptoIndice], \n",
    "                             valores.dataFim)\n",
    "dadosCripto.index = dadosCripto.index.tz_localize(None)"
   ]
  },
  {
   "cell_type": "code",
   "execution_count": null,
   "id": "cc8838ec",
   "metadata": {},
   "outputs": [],
   "source": [
    "dadosCripto.head()"
   ]
  },
  {
   "cell_type": "code",
   "execution_count": null,
   "id": "4907b5b4",
   "metadata": {
    "scrolled": true
   },
   "outputs": [],
   "source": [
    "#Exibindo o resumo dos dados obtidos\n",
    "print('Dataset BTC-USD\\n')\n",
    "print(dadosCripto.info())"
   ]
  },
  {
   "cell_type": "code",
   "execution_count": null,
   "id": "00e39c2b",
   "metadata": {},
   "outputs": [],
   "source": [
    "dadosCripto.index.duplicated().sum()"
   ]
  },
  {
   "cell_type": "code",
   "execution_count": null,
   "id": "9272df73",
   "metadata": {},
   "outputs": [],
   "source": [
    "(dadosCripto==0).astype(int).sum()"
   ]
  },
  {
   "cell_type": "markdown",
   "id": "ea8ccd99",
   "metadata": {},
   "source": [
    "<h3>Coleta de Dados - Dados históricos do valor do Dólar</h3>"
   ]
  },
  {
   "cell_type": "code",
   "execution_count": null,
   "id": "80b8663a",
   "metadata": {},
   "outputs": [],
   "source": [
    "dadosDolar = pd.read_csv(\"USD_BRL Dados Históricos (2).csv\", encoding = \"utf-8\", parse_dates=True)\n",
    "print('Dataset Dólar\\n')\n",
    "dadosDolar.head(10)"
   ]
  },
  {
   "cell_type": "code",
   "execution_count": null,
   "id": "413a32ea",
   "metadata": {},
   "outputs": [],
   "source": [
    "dadosDolar.info()"
   ]
  },
  {
   "cell_type": "markdown",
   "id": "3aca0ed2",
   "metadata": {},
   "source": [
    "<h3>Processamento dos dados - Dados históricos do valor dos criptoativos</h3>"
   ]
  },
  {
   "cell_type": "code",
   "execution_count": null,
   "id": "c21be12a",
   "metadata": {},
   "outputs": [],
   "source": [
    "from pandas_datareader import data as pdr\n",
    "yf.pdr_override()\n",
    "criptoIndice         = 0\n",
    "valores.listaCriptos = ['BTC-USD', 'ETH-USD', 'XRP-USD', 'ADA-USD', 'SOL-USD'] \n",
    "#valores.dataInicio   = ['2014-09-17','2017-11-09'] #limite\n",
    "#valores.dataInicio   = ['2017-09-01','2017-11-09'] #nova entrada\n",
    "valores.dataInicio   = ['2017-09-01','2017-11-09','2017-11-09','2017-11-09','2020-04-10']\n",
    "valores.dataFim      = '2023-03-14'\n",
    "dadosCripto = pdr.DataReader(valores.listaCriptos[criptoIndice], valores.dataInicio[criptoIndice], valores.dataFim)\n",
    "dadosCripto.index = dadosCripto.index.tz_localize(None)"
   ]
  },
  {
   "cell_type": "code",
   "execution_count": null,
   "id": "9138f9b7",
   "metadata": {},
   "outputs": [],
   "source": [
    "dadosCripto = dadosCripto.rename(columns={\"Open\": \"CriptoAbertura\"})\n",
    "dadosCripto = dadosCripto.rename(columns={\"High\": \"CriptoMaximo\"})\n",
    "dadosCripto = dadosCripto.rename(columns={\"Low\": \"CriptoMinimo\"})\n",
    "dadosCripto = dadosCripto.rename(columns={\"Close\": \"CriptoFechamento\"})\n",
    "dadosCripto = dadosCripto.rename(columns={\"Adj Close\": \"CriptoFechamentoAjustado\"})\n",
    "dadosCripto = dadosCripto.rename(columns={\"Volume\": \"CriptoVolume\"})"
   ]
  },
  {
   "cell_type": "code",
   "execution_count": null,
   "id": "7ebb94bb",
   "metadata": {},
   "outputs": [],
   "source": [
    "dadosCripto.head()"
   ]
  },
  {
   "cell_type": "code",
   "execution_count": null,
   "id": "88a42530",
   "metadata": {},
   "outputs": [],
   "source": [
    "dadosCripto.index.duplicated().sum()"
   ]
  },
  {
   "cell_type": "code",
   "execution_count": null,
   "id": "d96dd4cc",
   "metadata": {},
   "outputs": [],
   "source": [
    "(dadosCripto==0).astype(int).sum()"
   ]
  },
  {
   "cell_type": "code",
   "execution_count": null,
   "id": "20c4a0bf",
   "metadata": {},
   "outputs": [],
   "source": [
    "dadosCripto.corr()"
   ]
  },
  {
   "cell_type": "code",
   "execution_count": null,
   "id": "11b6a216",
   "metadata": {},
   "outputs": [],
   "source": [
    "dadosCripto.corr()['CriptoFechamento']"
   ]
  },
  {
   "cell_type": "code",
   "execution_count": null,
   "id": "a43035f2",
   "metadata": {},
   "outputs": [],
   "source": [
    "dadosCripto = dadosCripto.drop(columns = [\"CriptoFechamentoAjustado\"])\n",
    "dadosCripto.head()"
   ]
  },
  {
   "cell_type": "markdown",
   "id": "4585a529",
   "metadata": {},
   "source": [
    "<h3>Processamento dos dados - Dados históricos do valor do dólar</h3>"
   ]
  },
  {
   "cell_type": "code",
   "execution_count": null,
   "id": "21fb54dc",
   "metadata": {},
   "outputs": [],
   "source": [
    "dadosDolar.index.duplicated().sum()"
   ]
  },
  {
   "cell_type": "code",
   "execution_count": null,
   "id": "d58b6c07",
   "metadata": {},
   "outputs": [],
   "source": [
    "dadosDolar.isnull().sum()"
   ]
  },
  {
   "cell_type": "code",
   "execution_count": null,
   "id": "959f7915",
   "metadata": {},
   "outputs": [],
   "source": [
    "dadosDolar[dadosDolar['Vol.'].isnull()].head(5)"
   ]
  },
  {
   "cell_type": "code",
   "execution_count": null,
   "id": "29cf30f1",
   "metadata": {},
   "outputs": [],
   "source": [
    "print(\"Porcentagem de dados nulos: %.2f%%\" % \n",
    "      (dadosDolar['Vol.'].isnull().sum()/dadosDolar['Vol.'].isnull().count()*100))"
   ]
  },
  {
   "cell_type": "code",
   "execution_count": null,
   "id": "e68fe427",
   "metadata": {},
   "outputs": [],
   "source": [
    "dadosDolar['Último'] = dadosDolar['Último'].apply(lambda x: str(x).replace(',','.')).astype(float)\n",
    "dadosDolar['Abertura'] = dadosDolar['Abertura'].apply(lambda x: str(x).replace(',','.')).astype(float)\n",
    "dadosDolar['Máxima'] = dadosDolar['Máxima'].apply(lambda x: str(x).replace(',','.')).astype(float)\n",
    "dadosDolar['Mínima'] = dadosDolar['Mínima'].apply(lambda x: str(x).replace(',','.')).astype(float)\n",
    "formato = \"%d.%m.%Y\"\n",
    "dadosDolar['Data'] = dadosDolar['Data'].apply(lambda linha: datetime.strptime(linha, formato))\n",
    "dadosDolar = dadosDolar.drop('Var%', axis=1)\n",
    "dadosDolar = dadosDolar.drop('Vol.', axis=1)\n",
    "dadosDolar = dadosDolar.rename(columns={\"Último\": \"DolarFechamento\",\n",
    "                                   \"Abertura\": \"DolarAbertura\",\n",
    "                                   \"Máxima\": \"DolarMaximo\",\n",
    "                                   \"Mínima\": \"DolarMinimo\"})\n",
    "dadosDolar = dadosDolar.set_index('Data')"
   ]
  },
  {
   "cell_type": "code",
   "execution_count": null,
   "id": "4412142f",
   "metadata": {},
   "outputs": [],
   "source": [
    "dadosDolar.head(5)"
   ]
  },
  {
   "cell_type": "code",
   "execution_count": null,
   "id": "f6ac1449",
   "metadata": {},
   "outputs": [],
   "source": [
    "dadosDolar[dadosDolar==0].count()"
   ]
  },
  {
   "cell_type": "code",
   "execution_count": null,
   "id": "859d6912",
   "metadata": {},
   "outputs": [],
   "source": [
    "dadosDolar.isnull().sum()"
   ]
  },
  {
   "cell_type": "code",
   "execution_count": null,
   "id": "75a0fdbb",
   "metadata": {},
   "outputs": [],
   "source": [
    "dadosDolar.describe()"
   ]
  },
  {
   "cell_type": "markdown",
   "id": "1da2681f",
   "metadata": {},
   "source": [
    "<h3>Integração dos datasets</h3>"
   ]
  },
  {
   "cell_type": "code",
   "execution_count": null,
   "id": "b9312de0",
   "metadata": {},
   "outputs": [],
   "source": [
    "df = dadosCripto.join(dadosDolar)"
   ]
  },
  {
   "cell_type": "code",
   "execution_count": null,
   "id": "7e5b168f",
   "metadata": {},
   "outputs": [],
   "source": [
    "df.head(14)"
   ]
  },
  {
   "cell_type": "code",
   "execution_count": null,
   "id": "dcfd8dab",
   "metadata": {},
   "outputs": [],
   "source": [
    "df.isnull().sum()"
   ]
  },
  {
   "cell_type": "code",
   "execution_count": null,
   "id": "191b076c",
   "metadata": {},
   "outputs": [],
   "source": [
    "df['DolarFechamento'] = df['DolarFechamento'].fillna(method='ffill')\n",
    "df['DolarAbertura'] = df['DolarAbertura'].fillna(method='ffill')\n",
    "df['DolarMaximo'] = df['DolarMaximo'].fillna(method='ffill')\n",
    "df['DolarMinimo'] = df['DolarMinimo'].fillna(method='ffill')"
   ]
  },
  {
   "cell_type": "code",
   "execution_count": null,
   "id": "a567551b",
   "metadata": {},
   "outputs": [],
   "source": [
    "df.isnull().sum()"
   ]
  },
  {
   "cell_type": "code",
   "execution_count": null,
   "id": "c4ef95f4",
   "metadata": {},
   "outputs": [],
   "source": [
    "df.head(20)"
   ]
  },
  {
   "cell_type": "code",
   "execution_count": null,
   "id": "0fdbdc11",
   "metadata": {},
   "outputs": [],
   "source": [
    "df = df.assign(CriptoAberturaReal = df.CriptoAbertura * df.DolarAbertura)\n",
    "df = df.assign(CriptoFechamentoReal = df.CriptoFechamento * df.DolarFechamento)\n",
    "df = df.assign(CriptoMáximoReal = df.CriptoMaximo * df.DolarMaximo)\n",
    "df = df.assign(CriptoMínimoReal = df.CriptoMinimo * df.DolarMinimo)\n",
    "df = df.assign(CriptoVolumeReal = df.CriptoVolume * df.DolarFechamento)\n",
    "\n",
    "df = df.rename(columns={\"CriptoAberturaReal\": \"Cripto Abertura (R$)\",\n",
    "                        \"CriptoFechamentoReal\": \"Cripto Fechamento (R$)\",\n",
    "                        \"CriptoMáximoReal\": \"Cripto Máximo (R$)\",\n",
    "                        \"CriptoMínimoReal\": \"Cripto Mínimo (R$)\",\n",
    "                        \"CriptoVolumeReal\": \"Cripto Volume (R$)\"})\n"
   ]
  },
  {
   "cell_type": "code",
   "execution_count": null,
   "id": "a5be7926",
   "metadata": {},
   "outputs": [],
   "source": [
    "df.head()"
   ]
  },
  {
   "cell_type": "code",
   "execution_count": null,
   "id": "b5e9ec8a",
   "metadata": {},
   "outputs": [],
   "source": [
    "df = df.drop(columns = [\"CriptoAbertura\",\"CriptoMaximo\",\"CriptoMinimo\",\"CriptoFechamento\",\n",
    "                        \"CriptoVolume\",\"DolarFechamento\",\"DolarAbertura\",\"DolarMaximo\",\"DolarMinimo\"])"
   ]
  },
  {
   "cell_type": "code",
   "execution_count": null,
   "id": "f322725b",
   "metadata": {},
   "outputs": [],
   "source": [
    "df.isnull().sum()"
   ]
  },
  {
   "cell_type": "code",
   "execution_count": null,
   "id": "5ec13e39",
   "metadata": {},
   "outputs": [],
   "source": [
    "df.head(5)"
   ]
  },
  {
   "cell_type": "markdown",
   "id": "e97cb7f8",
   "metadata": {},
   "source": [
    "<h3>Análise e Exploração dos Dados</h3>"
   ]
  },
  {
   "cell_type": "code",
   "execution_count": null,
   "id": "670ad5e9",
   "metadata": {},
   "outputs": [],
   "source": [
    "df.describe()"
   ]
  },
  {
   "cell_type": "code",
   "execution_count": null,
   "id": "d5fa29d2",
   "metadata": {},
   "outputs": [],
   "source": [
    "df.boxplot(figsize=(14,6))"
   ]
  },
  {
   "cell_type": "code",
   "execution_count": null,
   "id": "4ba09e0d",
   "metadata": {},
   "outputs": [],
   "source": [
    "df.drop('Cripto Volume (R$)', axis=1).boxplot(figsize=(14,6))"
   ]
  },
  {
   "cell_type": "code",
   "execution_count": null,
   "id": "e1dcd1fa",
   "metadata": {
    "scrolled": false
   },
   "outputs": [],
   "source": [
    "df[['Cripto Abertura (R$)','Cripto Fechamento (R$)','Cripto Máximo (R$)',\n",
    "                'Cripto Mínimo (R$)']].boxplot(figsize=(14,6))"
   ]
  },
  {
   "cell_type": "code",
   "execution_count": null,
   "id": "eed4feab",
   "metadata": {},
   "outputs": [],
   "source": [
    "df[['Cripto Abertura (R$)','Cripto Fechamento (R$)','Cripto Máximo (R$)',\n",
    "                'Cripto Mínimo (R$)']].plot.line(figsize=(17,6), linewidth=0.9 )"
   ]
  },
  {
   "cell_type": "code",
   "execution_count": null,
   "id": "00297c01",
   "metadata": {},
   "outputs": [],
   "source": [
    "df.hist(figsize = (15,10))\n",
    "plt.show()"
   ]
  },
  {
   "cell_type": "code",
   "execution_count": null,
   "id": "39b93a4d",
   "metadata": {},
   "outputs": [],
   "source": [
    "plt.figure(figsize=(15,10))\n",
    "sns.heatmap(df.corr(), vmin=-1.0, vmax=1.0, annot=True, cmap='coolwarm', linewidths=0.1)\n",
    "plt.show()"
   ]
  },
  {
   "cell_type": "code",
   "execution_count": null,
   "id": "62e30f7e",
   "metadata": {},
   "outputs": [],
   "source": [
    "from scipy.stats import norm\n",
    "\n",
    "# plotando a variação de preço do ativo por dia\n",
    "fig, ax = plt.subplots(figsize=(12,5))\n",
    "df['Cripto Fechamento (R$)'].plot(ax=ax)\n",
    "ax.set_title('Preço diário Bitcoin')\n",
    "ax.set_xlabel('')\n",
    "ax.set_ylabel('R$')\n",
    "ax.tick_params(rotation=0)\n",
    "\n",
    "# plotando as distribuições dos preços, por DIA\n",
    "plt.figure(figsize=(8,5))\n",
    "ax = sns.distplot(df['Cripto Fechamento (R$)'], fit=norm, kde=True)\n",
    "ax.set_xlabel('Cripto Fechamento (R$)')\n",
    "ax.set_title('Distribuição dos PREÇOS de Bitcoin Diário')"
   ]
  },
  {
   "cell_type": "code",
   "execution_count": null,
   "id": "685d69d6",
   "metadata": {},
   "outputs": [],
   "source": [
    "# verificar a necessidade de retirar a coluna Volume"
   ]
  },
  {
   "cell_type": "code",
   "execution_count": null,
   "id": "efb46e3f",
   "metadata": {},
   "outputs": [],
   "source": [
    "dfNovo = pd.DataFrame()\n",
    "dfNovo = df.drop(['Cripto Abertura (R$)','Cripto Máximo (R$)','Cripto Mínimo (R$)'], axis=1)"
   ]
  },
  {
   "cell_type": "code",
   "execution_count": null,
   "id": "aac0a225",
   "metadata": {
    "scrolled": true
   },
   "outputs": [],
   "source": [
    "dfNovo.head()"
   ]
  },
  {
   "cell_type": "markdown",
   "id": "ea637135",
   "metadata": {},
   "source": [
    "<h3>Análise exploratória de dados e Featuring Engineering para modelo ARIMA</h3>"
   ]
  },
  {
   "cell_type": "markdown",
   "id": "a3987c11",
   "metadata": {},
   "source": [
    "<h3>EDA para ARIMA</h3>\n",
    "<h4>Os principais pontos para utilizar o modelo ARIMA são:</h4>\n",
    "</br>\n",
    "<li> Sazonalidade </li>\n",
    "<li> Série estacionária — definição do parâmetro d </li>\n",
    "<li> Média Móvel </li>\n",
    "<li> Outliers </li>\n",
    "<li> Função de Autocorrelação Parcial (p) </li>\n",
    "<li> Função de Autocorrelação (q) </li>"
   ]
  },
  {
   "cell_type": "markdown",
   "id": "4a5e3136",
   "metadata": {},
   "source": [
    "<h3>Identificação da Sazonalidade</h3>"
   ]
  },
  {
   "cell_type": "code",
   "execution_count": null,
   "id": "be7df2cc",
   "metadata": {
    "scrolled": false
   },
   "outputs": [],
   "source": [
    "from statsmodels.tsa.seasonal import seasonal_decompose\n",
    "\n",
    "# decompondo a série temporal em seus componentes de tendência, sazonalidade e erro\n",
    "decomposicao = seasonal_decompose(dfNovo['Cripto Fechamento (R$)'], model='additive', period=90)\n",
    "\n",
    "# plotando o gráfico para cada componente\n",
    "plt.figure(figsize=(15,10))\n",
    "plt.subplot(411)\n",
    "plt.plot(dfNovo['Cripto Fechamento (R$)'], label='Original')\n",
    "plt.legend(loc='upper left')\n",
    "plt.subplot(412)\n",
    "\n",
    "plt.plot(decomposicao.trend, label='Tendência')\n",
    "plt.legend(loc='upper left')\n",
    "plt.subplot(413)\n",
    "\n",
    "plt.plot(decomposicao.seasonal, label='Sazonalidade')\n",
    "plt.legend(loc='upper left')\n",
    "plt.subplot(414)\n",
    "\n",
    "plt.plot(decomposicao.resid, label='Resíduos')\n",
    "plt.legend(loc='upper left')\n",
    "plt.tight_layout()\n"
   ]
  },
  {
   "cell_type": "code",
   "execution_count": null,
   "id": "67d0e358",
   "metadata": {},
   "outputs": [],
   "source": [
    "from statsmodels.tsa.stattools import adfuller\n",
    "\n",
    "# Teste de Dickey-Fuller\n",
    "resultado = adfuller(dfNovo['Cripto Fechamento (R$)'])\n",
    "\n",
    "# Imprimindo o resultado do teste\n",
    "print('Estatística do teste: {:.2f}'.format(resultado[0]))\n",
    "print('Valor-p: {:.2f}'.format(resultado[1]))\n",
    "print('Valores críticos:')\n",
    "for chave, valor in resultado[4].items():\n",
    "    print('\\t{}: {:.2f}'.format(chave, valor))"
   ]
  },
  {
   "cell_type": "code",
   "execution_count": null,
   "id": "0cac1dc6",
   "metadata": {
    "scrolled": false
   },
   "outputs": [],
   "source": [
    "# Diferenciação de primeira ordem\n",
    "df_arima = dfNovo.copy()\n",
    "df_arima['retorno_percentual'] = dfNovo['Cripto Fechamento (R$)'].pct_change()\n",
    "df_arima.dropna(inplace=True)\n",
    "\n",
    "# Plot da série resultante e sua distribuição\n",
    "fig, axs = plt.subplots(1,2,figsize=(15,5))\n",
    "axs[0].plot(df_arima['retorno_percentual'])\n",
    "axs[0].set_title('Série resultante após diferenciação de primeira ordem')\n",
    "ax2 = sns.distplot(df_arima['retorno_percentual'], fit=norm, kde=True, ax=axs[1])\n",
    "ax2.set_title('Distribuição de probabilidade da série resultante')\n"
   ]
  },
  {
   "cell_type": "markdown",
   "id": "22cbbfbb",
   "metadata": {},
   "source": [
    "<h3>Verificação da estacionariedade da série - definição do parâmetro d</h3>"
   ]
  },
  {
   "cell_type": "code",
   "execution_count": null,
   "id": "ede56225",
   "metadata": {},
   "outputs": [],
   "source": [
    "from statsmodels.tsa.stattools import adfuller\n",
    "\n",
    "# Teste de Dickey-Fuller\n",
    "resultado = adfuller(df_arima['retorno_percentual'])\n",
    "\n",
    "# Imprimindo o resultado do teste\n",
    "print('Estatística do teste: {:.2f}'.format(resultado[0]))\n",
    "print('Valor-p: {:.2f}'.format(resultado[1]))\n",
    "print('Valores críticos:')\n",
    "for chave, valor in resultado[4].items():\n",
    "    print('\\t{}: {:.2f}'.format(chave, valor))"
   ]
  },
  {
   "cell_type": "code",
   "execution_count": null,
   "id": "d9e32bbe",
   "metadata": {},
   "outputs": [],
   "source": [
    "df_arima.head()"
   ]
  },
  {
   "cell_type": "markdown",
   "id": "1d7ae5f9",
   "metadata": {},
   "source": [
    "<h3>Identificação de outliers</h3>"
   ]
  },
  {
   "cell_type": "code",
   "execution_count": null,
   "id": "e8e6b72c",
   "metadata": {},
   "outputs": [],
   "source": [
    "# Cálculo da média móvel e do desvio padrão móvel\n",
    "rolling_mean = df_arima['retorno_percentual'].rolling(window=30).mean()\n",
    "rolling_std = df_arima['retorno_percentual'].rolling(window=30).std()\n",
    "\n",
    "# Cálculo dos limites de outlier\n",
    "upper_limit = rolling_mean + 3 * rolling_std\n",
    "lower_limit = rolling_mean - 3 * rolling_std\n",
    "\n",
    "# Marcação dos outliers\n",
    "outliers = (df_arima['retorno_percentual'] > upper_limit) | (df_arima['retorno_percentual'] < lower_limit)\n",
    "outliers_idx = df_arima.index[outliers]\n",
    "\n",
    "# Plot da série resultante com limites de outlier\n",
    "plt.figure(figsize=(15,5))\n",
    "plt.plot(df_arima['retorno_percentual'], label='Cripto Fechamento (R$) - 1ª Diferenciação')\n",
    "plt.scatter(outliers_idx, df_arima['retorno_percentual'][outliers_idx], color='red', label='Outliers')\n",
    "plt.title('Identificação de Outliers')\n",
    "plt.legend(loc='lower left')\n",
    "plt.show()\n"
   ]
  },
  {
   "cell_type": "code",
   "execution_count": null,
   "id": "99d5cd49",
   "metadata": {},
   "outputs": [],
   "source": [
    "from scipy.stats import mstats\n",
    "\n",
    "# Cálculo da média móvel e do desvio padrão móvel\n",
    "rolling_mean = df_arima['retorno_percentual'].rolling(window=30).mean()\n",
    "rolling_std = df_arima['retorno_percentual'].rolling(window=30).std()\n",
    "\n",
    "# Cálculo dos limites de outlier\n",
    "upper_limit = rolling_mean + 3 * rolling_std\n",
    "lower_limit = rolling_mean - 3 * rolling_std\n",
    "\n",
    "# Marcação dos outliers\n",
    "outliers = (df_arima['retorno_percentual'] > upper_limit) | (df_arima['retorno_percentual'] < lower_limit)\n",
    "outliers_idx = df_arima.index[outliers]\n",
    "\n",
    "# Winsorização dos dados\n",
    "winsorized = mstats.winsorize(df_arima['retorno_percentual'], limits=[0.05, 0.05])\n",
    "\n",
    "# Substituição dos outliers pelos valores winsorizados\n",
    "df_arima['retorno_winsorized'] = np.where(outliers, winsorized, df_arima['retorno_percentual'])\n",
    "\n",
    "# Plot da série resultante\n",
    "plt.figure(figsize=(15,5))\n",
    "plt.plot(df_arima['retorno_winsorized'], label='Cripto Fechamento (R$) - 1ª Diferenciação')\n",
    "plt.scatter(outliers_idx, df_arima['retorno_percentual'][outliers_idx], color='red', label='Outliers')\n",
    "plt.title('Tratamento de Outliers com Winsorize')\n",
    "plt.legend(loc='lower left')\n",
    "plt.show()\n"
   ]
  },
  {
   "cell_type": "markdown",
   "id": "78d8cde9",
   "metadata": {},
   "source": [
    "<h3>Análise da função de Autocorrelação Parcial - definição do parâmetro (p)</h3>"
   ]
  },
  {
   "cell_type": "code",
   "execution_count": null,
   "id": "d627e2f2",
   "metadata": {},
   "outputs": [],
   "source": [
    "from statsmodels.graphics.tsaplots import plot_pacf\n",
    "\n",
    "fig, ax = plt.subplots(figsize=(15, 8))\n",
    "\n",
    "# Plot da PACF\n",
    "plot_pacf(df_arima['retorno_winsorized'].dropna(), lags=30, ax=ax, method='ywm')\n",
    "ax.set_title('Autocorrelação Parcial PACF - Bitcoin')\n",
    "ax.set_ylim(bottom=-0.08, top=1.1)\n",
    "plt.show()\n"
   ]
  },
  {
   "cell_type": "markdown",
   "id": "687346f4",
   "metadata": {},
   "source": [
    "<h3>Análise da função de Autocorrelação - definição do parâmetro (q)</h3>"
   ]
  },
  {
   "cell_type": "code",
   "execution_count": null,
   "id": "f4eafca4",
   "metadata": {},
   "outputs": [],
   "source": [
    "from statsmodels.graphics.tsaplots import plot_acf\n",
    "\n",
    "fig, ax = plt.subplots(figsize=(15, 8))\n",
    "\n",
    "# Plot da ACF\n",
    "plot_acf(df_arima['retorno_winsorized'].dropna(), lags=30, ax=ax)\n",
    "ax.set_title('Autocorrelação ACF - Bitcoin')\n",
    "ax.set_ylim(bottom=-0.08, top=1.1)\n",
    "plt.show()"
   ]
  },
  {
   "cell_type": "code",
   "execution_count": null,
   "id": "5b2b47e5",
   "metadata": {},
   "outputs": [],
   "source": [
    "df_arima.tail()"
   ]
  },
  {
   "cell_type": "code",
   "execution_count": null,
   "id": "9c0402bc",
   "metadata": {},
   "outputs": [],
   "source": [
    "df.head(5)"
   ]
  },
  {
   "cell_type": "code",
   "execution_count": null,
   "id": "709b6af8",
   "metadata": {},
   "outputs": [],
   "source": [
    "dfNovo.head(5)"
   ]
  },
  {
   "cell_type": "markdown",
   "id": "f5a55689",
   "metadata": {},
   "source": [
    "<h3>Análise exploratória de dados e Feature Engineering para outros modelos</h3>"
   ]
  },
  {
   "cell_type": "markdown",
   "id": "0a7eeb9f",
   "metadata": {},
   "source": [
    "<h3>Média Móvel</h3>"
   ]
  },
  {
   "cell_type": "code",
   "execution_count": null,
   "id": "0146b66f",
   "metadata": {},
   "outputs": [],
   "source": [
    "def media_movel(df, nome, coluna, dias):\n",
    "    df[nome] = df[coluna].rolling(dias).mean()\n",
    "    return df"
   ]
  },
  {
   "cell_type": "code",
   "execution_count": null,
   "id": "3d55140b",
   "metadata": {},
   "outputs": [],
   "source": [
    "dfNovo = media_movel(dfNovo,'MediaMovel_7', ['Cripto Fechamento (R$)'], 7)\n",
    "dfNovo = media_movel(dfNovo,'MediaMovel_9', ['Cripto Fechamento (R$)'], 9)\n",
    "dfNovo = media_movel(dfNovo,'MediaMovel_21', ['Cripto Fechamento (R$)'], 21)"
   ]
  },
  {
   "cell_type": "code",
   "execution_count": null,
   "id": "4bd98d8d",
   "metadata": {
    "scrolled": true
   },
   "outputs": [],
   "source": [
    "dfNovo.dropna(inplace=True)\n",
    "dfNovo.head()"
   ]
  },
  {
   "cell_type": "code",
   "execution_count": null,
   "id": "7378fc98",
   "metadata": {},
   "outputs": [],
   "source": [
    "# Plotar o gráfico com as médias móveis\n",
    "media = pd.DataFrame(dfNovo)\n",
    "media = media.tail(90)\n",
    "\n",
    "plt.figure(figsize=(20, 10))\n",
    "plt.plot(media.index, media['Cripto Fechamento (R$)'], label='Preço', linewidth=4.5)\n",
    "plt.plot(media.index, media['MediaMovel_7'], label='Média Móvel 7')\n",
    "plt.plot(media.index, media['MediaMovel_9'], label='Média Móvel 9')\n",
    "plt.plot(media.index, media['MediaMovel_21'], label='Média Móvel 21')\n",
    "plt.xlabel('Data')\n",
    "plt.ylabel('Preço')\n",
    "plt.title('Médias Móveis de 7, 9 e 21 dias')\n",
    "plt.legend()\n",
    "plt.grid(True)\n",
    "plt.show()"
   ]
  },
  {
   "cell_type": "markdown",
   "id": "493bd5e5",
   "metadata": {},
   "source": [
    "<h3>Índice de Força Relativa (IFR)</h3>"
   ]
  },
  {
   "cell_type": "code",
   "execution_count": null,
   "id": "6385aa71",
   "metadata": {},
   "outputs": [],
   "source": [
    "import talib\n",
    "\n",
    "#Indicador IFR (Indice de Força Relativa)\n",
    "\n",
    "IFR_PERIODO = 14 # definindo o período considerado para cálculo de IFR\n",
    "dfNovo['IFR'] = talib.RSI(dfNovo['Cripto Fechamento (R$)'], IFR_PERIODO)  # criando a feature IFR\n",
    "# IFR < 30 -> 0 (comprar)\n",
    "# IFR > 70 -> 1 (vender)\n",
    "# Else -> 2 (nada)\n",
    "dfNovo['IFR - Indicador'] = dfNovo['IFR'].apply(lambda x: 0 if x<30 else 1 if x>70 else 2) \n",
    "display(dfNovo[['Cripto Fechamento (R$)','IFR','IFR - Indicador']].tail(5))"
   ]
  },
  {
   "cell_type": "code",
   "execution_count": null,
   "id": "b1688110",
   "metadata": {},
   "outputs": [],
   "source": [
    "plt.title(\"Variação IFR Bitcoin - Indicação da Faixa de compra e venda\")\n",
    "dfNovo['IFR'].plot()\n",
    "plt.axhline(y=30, color='black', linestyle='--')\n",
    "plt.axhline(y=70, color='black', linestyle='--')\n",
    "plt.axhspan(30, 70, color='thistle')\n",
    "plt.ylim(0, 100)"
   ]
  },
  {
   "cell_type": "code",
   "execution_count": null,
   "id": "4c6c5ae5",
   "metadata": {},
   "outputs": [],
   "source": [
    "# Análise do indice de força relativa\n",
    "print(dfNovo[\"IFR - Indicador\"].value_counts())\n",
    "print(dfNovo[\"IFR - Indicador\"].value_counts(normalize=True).map(\"{:.1%}\".format))"
   ]
  },
  {
   "cell_type": "markdown",
   "id": "8ed53847",
   "metadata": {},
   "source": [
    "<h3>Bandas de Bollinger (BB)</h3>"
   ]
  },
  {
   "cell_type": "code",
   "execution_count": null,
   "id": "02316735",
   "metadata": {},
   "outputs": [],
   "source": [
    "#Indicador Bandas de Bollinger\n",
    "\n",
    "# calculando a média móvel e limites superior e inferior\n",
    "# limites com base em 2 desvios padrão \n",
    "superior, media, inferior = talib.BBANDS(dfNovo['Cripto Fechamento (R$)'], timeperiod=20, nbdevup=2, nbdevdn=2, matype=0)\n",
    "# criando features para a média e os limites\n",
    "dfNovo['Banda Superior'] = superior\n",
    "dfNovo['Banda Média'] = media\n",
    "\n",
    "dfNovo['Banda Inferior'] = inferior\n",
    "dfNovo['BB'] = (dfNovo['Cripto Fechamento (R$)'] - dfNovo['Banda Inferior'])/(dfNovo['Banda Superior'] - \n",
    "                                                                              dfNovo['Banda Inferior'])\n",
    "dfNovo.dropna(inplace=True)\n",
    "# BB < 0 -> 0 (comprar)\n",
    "# BB > 1 -> 1 (vender)\n",
    "# Else -> 2 (nada)\n",
    "dfNovo['BB - Indicador'] = dfNovo['BB'].apply(lambda x: 0 if x<0 else 1 if x>1 else 2) \n",
    "display(dfNovo[['Cripto Fechamento (R$)','BB','BB - Indicador']].tail(5))"
   ]
  },
  {
   "cell_type": "code",
   "execution_count": null,
   "id": "0d2aed20",
   "metadata": {},
   "outputs": [],
   "source": [
    "plt.title(\"Variação BB Bitcoin - Indicação da Faixa de compra e venda\")\n",
    "dfNovo['BB'].plot()\n",
    "plt.axhline(y=0, color='black', linestyle='--')\n",
    "plt.axhline(y=1, color='black', linestyle='--')\n",
    "plt.axhspan(0, 1, color='thistle')\n",
    "plt.ylim(-1, 2)"
   ]
  },
  {
   "cell_type": "code",
   "execution_count": null,
   "id": "efa1454a",
   "metadata": {},
   "outputs": [],
   "source": [
    "# Análise da bandas de bollinger\n",
    "print(dfNovo[\"BB - Indicador\"].value_counts())\n",
    "print(dfNovo[\"BB - Indicador\"].value_counts(normalize=True).map(\"{:.1%}\".format))"
   ]
  },
  {
   "cell_type": "code",
   "execution_count": null,
   "id": "43735f78",
   "metadata": {},
   "outputs": [],
   "source": [
    "dfNovo.head()"
   ]
  },
  {
   "cell_type": "code",
   "execution_count": null,
   "id": "19db04dc",
   "metadata": {},
   "outputs": [],
   "source": [
    "# Plot the upper, mid and lower bands with prices\n",
    "import plotly.graph_objs as go\n",
    "fig = go.Figure(data=[go.Scatter(\n",
    "    name=\"Preço\",\n",
    "    x=dfNovo.index,\n",
    "    y=dfNovo[\"Cripto Fechamento (R$)\"],\n",
    "    mode='lines'),\n",
    "    go.Scatter(name=\"Banda Superior\", x=dfNovo.index, y=dfNovo['Banda Superior'], line=dict(color='tomato', width=2)),\n",
    "    go.Scatter(name=\"Banda Média\", x=dfNovo.index, y=dfNovo['Banda Média'], line=dict(color='green', width=2)),\n",
    "    go.Scatter(name=\"Banda Inferior\", x=dfNovo.index, y=dfNovo['Banda Inferior'], line=dict(color='tomato', width=2))])\n",
    "\n",
    "\n",
    "# Customise and show plot\n",
    "fig.update_layout(title='Preços BITCOIN ')\n",
    "fig['layout']['yaxis']['title']='Preços'\n",
    "fig.show()"
   ]
  },
  {
   "cell_type": "code",
   "execution_count": null,
   "id": "cf1b1a76",
   "metadata": {
    "scrolled": true
   },
   "outputs": [],
   "source": [
    "dfNovo.head()"
   ]
  },
  {
   "cell_type": "markdown",
   "id": "26ca25c2",
   "metadata": {},
   "source": [
    "<h3>Suporte e resistência</h3>"
   ]
  },
  {
   "cell_type": "code",
   "execution_count": null,
   "id": "5ce35ccc",
   "metadata": {},
   "outputs": [],
   "source": [
    "# função de suporte\n",
    "def func_suporte(df,i):\n",
    "  suporte = (df['Cripto Mínimo (R$)'][i] < df['Cripto Mínimo (R$)'][i-1]\n",
    "             and df['Cripto Mínimo (R$)'][i] < df['Cripto Mínimo (R$)'][i+1]\n",
    "             and df['Cripto Mínimo (R$)'][i+1] < df['Cripto Mínimo (R$)'][i+2]\n",
    "             and df['Cripto Mínimo (R$)'][i-1] < df['Cripto Mínimo (R$)'][i-2])\n",
    "  return suporte\n",
    "\n",
    "# função de resistencia\n",
    "def func_resistencia(df,i):\n",
    "  resistencia = (df['Cripto Máximo (R$)'][i] > df['Cripto Máximo (R$)'][i-1]\n",
    "                and df['Cripto Máximo (R$)'][i] > df['Cripto Máximo (R$)'][i+1]\n",
    "                and df['Cripto Máximo (R$)'][i+1] > df['Cripto Máximo (R$)'][i+2]\n",
    "                and df['Cripto Máximo (R$)'][i-1] > df['Cripto Máximo (R$)'][i-2])\n",
    "  return resistencia\n",
    "\n",
    "\n",
    "# suporte -> 0 (comprar)\n",
    "# resistência -> 1 (vender)\n",
    "# outros (2)\n",
    "\n",
    "# criando feature com valores 2\n",
    "dfNovo['Suporte/Resistencia'] = 2\n",
    "\n",
    "# definindo os valores 1 e 0\n",
    "for i in range(2, dfNovo.shape[0] - 2):\n",
    "    if func_suporte(df,i):\n",
    "        dfNovo['Suporte/Resistencia'][i] = 0 # definindo 0 para suporte\n",
    "    elif func_resistencia(df,i):\n",
    "        dfNovo['Suporte/Resistencia'][i] = 1 # definindo 1 para resistência"
   ]
  },
  {
   "cell_type": "code",
   "execution_count": null,
   "id": "4b22dccf",
   "metadata": {},
   "outputs": [],
   "source": [
    "# Análise das regiões de suporte e resistência\n",
    "print(dfNovo['Suporte/Resistencia'].value_counts())\n",
    "print(dfNovo['Suporte/Resistencia'].value_counts(normalize=True).map(\"{:.1%}\".format))"
   ]
  },
  {
   "cell_type": "code",
   "execution_count": null,
   "id": "7ae39b51",
   "metadata": {
    "scrolled": false
   },
   "outputs": [],
   "source": [
    "dfNovo.head()"
   ]
  },
  {
   "cell_type": "markdown",
   "id": "5c2ad481",
   "metadata": {},
   "source": [
    "<h3>Linhas de tendência</h3>"
   ]
  },
  {
   "cell_type": "code",
   "execution_count": null,
   "id": "e3dd1129",
   "metadata": {},
   "outputs": [],
   "source": [
    "# linhas de tendência\n",
    "dfNovo2 = dfNovo.reset_index()\n",
    "dfNovo['Correlacao'] = (dfNovo2['Cripto Fechamento (R$)'].rolling(20).corr(pd.Series(dfNovo2.index))).tolist()\n",
    "dfNovo.dropna(inplace=True)\n",
    "\n",
    "def func_definicao(x):\n",
    "    if x<=-0.5:\n",
    "        return -1\n",
    "    elif x>-0.5 and x<0.5:\n",
    "        return 0\n",
    "    else:\n",
    "        return 1\n",
    "    \n",
    "# tendência de alta -> 1 (comprar)\n",
    "# tendência de baixa -> -1 (vender)\n",
    "# fase de lateralidade (0)\n",
    "    \n",
    "dfNovo['LTA/LTB - Indicador'] = dfNovo['Correlacao'].apply(func_definicao)\n",
    "\n",
    "# gráficos\n",
    "sns.scatterplot(x = dfNovo.index, y = dfNovo['Correlacao'])\n",
    "sns.countplot(x = dfNovo['LTA/LTB - Indicador'])"
   ]
  },
  {
   "cell_type": "code",
   "execution_count": null,
   "id": "44e4c1c6",
   "metadata": {},
   "outputs": [],
   "source": [
    "dfNovo.head()"
   ]
  },
  {
   "cell_type": "code",
   "execution_count": null,
   "id": "2384e110",
   "metadata": {},
   "outputs": [],
   "source": [
    "df_arima['Cripto Fechamento (R$)'].tail()"
   ]
  },
  {
   "cell_type": "markdown",
   "id": "fd494fab",
   "metadata": {},
   "source": [
    "<h1>Criação de Modelos de Machine Learning<h1/>"
   ]
  },
  {
   "cell_type": "markdown",
   "id": "2da819c2",
   "metadata": {},
   "source": [
    "<h3>Modelo ARIMA<h3/>"
   ]
  },
  {
   "cell_type": "code",
   "execution_count": null,
   "id": "10a72f1a",
   "metadata": {},
   "outputs": [],
   "source": [
    "import warnings\n",
    "warnings.filterwarnings(\"ignore\")"
   ]
  },
  {
   "cell_type": "code",
   "execution_count": null,
   "id": "ec187243",
   "metadata": {},
   "outputs": [],
   "source": [
    "import pandas as pd\n",
    "from statsmodels.tsa.arima.model import ARIMA\n",
    "import matplotlib.pyplot as plt"
   ]
  },
  {
   "cell_type": "code",
   "execution_count": null,
   "id": "6dad3c85",
   "metadata": {},
   "outputs": [],
   "source": [
    "# Separar os dados de treino e os dados de teste\n",
    "treino = df_arima['Cripto Fechamento (R$)'].iloc[:-60]\n",
    "teste = df_arima['Cripto Fechamento (R$)'].iloc[-60:]\n",
    "\n",
    "plt.title('Dados de treino e Dados de teste',size=15)\n",
    "treino.plot(figsize=(15,6))\n",
    "teste.plot()\n",
    "plt.xlabel('Série',size=15)\n",
    "plt.legend(['Treino','Teste']);"
   ]
  },
  {
   "cell_type": "code",
   "execution_count": null,
   "id": "c84873c8",
   "metadata": {},
   "outputs": [],
   "source": [
    "# Criar modelo ARIMA\n",
    "model = ARIMA(treino, order=(1, 1, 1))\n",
    "model_fit = model.fit()\n",
    "\n",
    "# Realizar previsão\n",
    "step = len(teste)\n",
    "previsao = model_fit.forecast(step)\n",
    "previsao = pd.Series(previsao, index = teste[:step].index)\n",
    "\n",
    "# Plotar resultados\n",
    "plt.figure(figsize=(16, 8))\n",
    "plt.plot(treino[:], label='Treino')\n",
    "plt.plot(teste[:step], label='Teste')\n",
    "plt.plot(previsao, label='Previsto')\n",
    "plt.title('Previsto vs atual')\n",
    "plt.legend(loc='best')\n",
    "plt.show()"
   ]
  },
  {
   "cell_type": "code",
   "execution_count": null,
   "id": "829710b4",
   "metadata": {},
   "outputs": [],
   "source": [
    "from sklearn.metrics import mean_absolute_error, mean_squared_error, r2_score, accuracy_score"
   ]
  },
  {
   "cell_type": "code",
   "execution_count": null,
   "id": "1020d64d",
   "metadata": {},
   "outputs": [],
   "source": [
    "# Calcular as métricas\n",
    "mae = mean_absolute_error(teste, previsao)\n",
    "rmse = mean_squared_error(teste, previsao, squared=False)\n",
    "\n",
    "\n",
    "# Imprimir as métricas\n",
    "print(\"O MAE do modelo ARIMA(1,1,1):\", mae)\n",
    "print(\"O RMSE do modelo ARIMA(1,1,1):\", rmse)"
   ]
  },
  {
   "cell_type": "code",
   "execution_count": null,
   "id": "8c848134",
   "metadata": {},
   "outputs": [],
   "source": [
    "print(\"O R² do modelo ARIMA(1,1,1) é:\", r2_score(teste, previsao))"
   ]
  },
  {
   "cell_type": "code",
   "execution_count": null,
   "id": "e53ccccb",
   "metadata": {},
   "outputs": [],
   "source": [
    "# Criar um dataframe para o preço\n",
    "precos = df_arima['Cripto Fechamento (R$)']\n",
    "\n",
    "# Em seguida, vamos atribuir 70% dos dados para treinamento e 30% para teste.\n",
    "X = precos.values\n",
    "size = int(len(X) * 0.7)\n",
    "treino_walk, teste_walk = X[0:size], X[size:len(X)]\n",
    "historico = [x for x in treino_walk]\n",
    "previsoes_walk = list()"
   ]
  },
  {
   "cell_type": "code",
   "execution_count": null,
   "id": "c1dfb8a8",
   "metadata": {
    "scrolled": true
   },
   "outputs": [],
   "source": [
    "# Abordagem Walk-Forward \n",
    "for i in range(len(teste_walk)):\n",
    "    model = ARIMA(historico, order=(1,1,1))\n",
    "    model_fit = model.fit()\n",
    "    saida = model_fit.forecast()\n",
    "    previsto = saida[0]\n",
    "    previsoes_walk.append(previsto)\n",
    "    esperado = teste_walk[i]\n",
    "    historico.append(esperado)\n",
    "    print('Previsto=%f, Esperado=%f' % (previsto, esperado))"
   ]
  },
  {
   "cell_type": "code",
   "execution_count": null,
   "id": "9ae604a7",
   "metadata": {
    "scrolled": true
   },
   "outputs": [],
   "source": [
    "mae_walk = mean_absolute_error(teste_walk, previsoes_walk)\n",
    "rmse_walk = mean_squared_error(teste_walk, previsoes_walk, squared=False)\n",
    "\n",
    "# Imprimir as métricas\n",
    "print(\"O MAE do modelo ARIMA(1,1,1):\", mae_walk)\n",
    "print(\"O RMSE do modelo ARIMA(1,1,1):\", rmse_walk)\n",
    "\n",
    "# Plotar previsões em relação aos resultados reais\n",
    "plt.figure(figsize=(15,8))\n",
    "plt.plot(teste_walk, label='Preço Atual')\n",
    "plt.plot(previsoes_walk, label='Previsões', color='red')\n",
    "plt.xlabel('Dias')\n",
    "plt.ylabel('R$ Preços')\n",
    "plt.title('Previsto vs. Preço Atual BTC')\n",
    "plt.legend(loc='best')\n",
    "plt.show()"
   ]
  },
  {
   "cell_type": "code",
   "execution_count": null,
   "id": "09f9af28",
   "metadata": {},
   "outputs": [],
   "source": [
    "mae_walk = mean_absolute_error(teste_walk, previsoes_walk)\n",
    "rmse_walk = mean_squared_error(teste_walk, previsoes_walk, squared=False)\n",
    "\n",
    "# Imprimir as métricas\n",
    "print(\"O MAE do modelo ARIMA(1,1,1):\", mae_walk)\n",
    "print(\"O RMSE do modelo ARIMA(1,1,1):\", rmse_walk)\n",
    "\n",
    "# Plot de 60 dias para ver com mais precisão como o modelo funciona com seu atraso.\n",
    "plt.plot(teste_walk[-60:], label='Preço Atual')\n",
    "plt.plot(previsoes_walk[-60:], label='Previsto', color='red')\n",
    "plt.xlabel('Dias')\n",
    "plt.ylabel('R$ Preços')\n",
    "plt.title('Previsto vs. Preço Atual BTC')\n",
    "plt.legend(loc='best')\n",
    "plt.show()"
   ]
  },
  {
   "cell_type": "code",
   "execution_count": null,
   "id": "d4ad497b",
   "metadata": {},
   "outputs": [],
   "source": [
    "print(\"O R² do modelo ARIMA(1,1,1) é:\", r2_score(teste_walk, previsoes_walk))"
   ]
  },
  {
   "cell_type": "markdown",
   "id": "82a6fcb0",
   "metadata": {},
   "source": [
    "<h3>Modelos de Regressão<h3/>"
   ]
  },
  {
   "cell_type": "code",
   "execution_count": null,
   "id": "229a3e38",
   "metadata": {},
   "outputs": [],
   "source": [
    "df_criptoFecha = pd.DataFrame()\n",
    "df_criptoFecha = df_criptoFecha.assign(CriptoFechaReal = dfNovo['Cripto Fechamento (R$)'].copy())\n",
    "df_criptoFecha = df_criptoFecha.rename(columns={\"CriptoFechaReal\": \"Cripto Fechamento (R$)\"})"
   ]
  },
  {
   "cell_type": "code",
   "execution_count": null,
   "id": "797eaea9",
   "metadata": {},
   "outputs": [],
   "source": [
    "# Cria função que defasa os retornos diários (lags)\n",
    "def constroi_lags(dataset, colunas, qtd_lags):\n",
    "    dataset_lag = dataset.copy()\n",
    "    for col in colunas:\n",
    "        for i in range(1, qtd_lags + 1):\n",
    "            lag_column_name = f\"{col}_lag_{i}\"\n",
    "            dataset_lag[lag_column_name] = dataset_lag[col].shift(i)\n",
    "    dataset_lag.dropna(inplace=True)\n",
    "    return dataset_lag"
   ]
  },
  {
   "cell_type": "code",
   "execution_count": null,
   "id": "efff1cf6",
   "metadata": {
    "scrolled": true
   },
   "outputs": [],
   "source": [
    "df_criptoFecha = constroi_lags(df_criptoFecha, ['Cripto Fechamento (R$)'], 50)\n",
    "df_criptoFecha.tail()"
   ]
  },
  {
   "cell_type": "code",
   "execution_count": null,
   "id": "3d672c70",
   "metadata": {},
   "outputs": [],
   "source": [
    "import pandas as pd\n",
    "from sklearn.model_selection import train_test_split\n",
    "from sklearn.tree import DecisionTreeRegressor\n",
    "from sklearn.ensemble import RandomForestRegressor\n",
    "from lightgbm import LGBMRegressor\n",
    "\n",
    "# Remove linhas com valores ausentes\n",
    "df_criptoFecha = df_criptoFecha.dropna()\n",
    "\n",
    "# Converter colunas para tipo float\n",
    "df_criptoFecha = df_criptoFecha.astype(float)\n",
    "\n",
    "# Separar variáveis dependentes e independentes\n",
    "y = df_criptoFecha['Cripto Fechamento (R$)']\n",
    "X = df_criptoFecha.drop(['Cripto Fechamento (R$)'], axis=1)\n",
    "\n",
    "# Dividir os dados em conjuntos de treinamento e teste\n",
    "X_train, X_test, y_train, y_test = train_test_split(X, y, test_size=0.3, random_state=27)"
   ]
  },
  {
   "cell_type": "code",
   "execution_count": null,
   "id": "e7bf3ba0",
   "metadata": {},
   "outputs": [],
   "source": [
    "from sklearn.model_selection import cross_val_score, TimeSeriesSplit\n",
    "from sklearn.tree import DecisionTreeRegressor\n",
    "from sklearn.ensemble import RandomForestRegressor\n",
    "from lightgbm import LGBMRegressor\n",
    "\n",
    "modelos_convencionais = {\n",
    "    'Árvore': DecisionTreeRegressor(max_depth=8),  \n",
    "    'RandomForest': RandomForestRegressor(max_depth=8),  \n",
    "    'LGBM': LGBMRegressor(max_depth=8) \n",
    "}\n",
    "\n",
    "# Dicionário para armazenar as avaliações de cada modelo\n",
    "avaliacao = {}  \n",
    "\n",
    "for nome, model in modelos_convencionais.items():\n",
    "    # Avalia a crossvalidação\n",
    "    scores = cross_val_score(\n",
    "        model, X_train, y_train, cv=TimeSeriesSplit(n_splits=5), scoring='neg_mean_absolute_error', n_jobs=8\n",
    "    )\n",
    "    avg_score = -scores.mean()  # Calcula a média dos scores e inverte o sinal para obter um valor positivo\n",
    "    avaliacao[nome] = avg_score  # Armazena o resultado da avaliação no dicionário\n",
    "\n",
    "avaliacao  # Retorna o dicionário com as avaliações de cada modelo\n"
   ]
  },
  {
   "cell_type": "code",
   "execution_count": null,
   "id": "3e1d8a89",
   "metadata": {},
   "outputs": [],
   "source": [
    "import matplotlib.pyplot as plt\n",
    "\n",
    "# Dados\n",
    "dados = avaliacao\n",
    "\n",
    "# Criar as barras horizontais\n",
    "plt.figure(figsize=(16, 6))\n",
    "plt.barh(range(len(dados)), list(dados.values()))\n",
    "\n",
    "# Adicionar os rótulos do eixo y\n",
    "plt.yticks(range(len(dados)), list(dados.keys()))\n",
    "\n",
    "# Definir o título do gráfico\n",
    "plt.title('Comparação de Modelos')\n",
    "\n",
    "# Exibir o gráfico\n",
    "plt.show()\n"
   ]
  },
  {
   "cell_type": "code",
   "execution_count": null,
   "id": "cae5e363",
   "metadata": {},
   "outputs": [],
   "source": [
    "# maeRandomForest = {10: 3687.509308532358, \n",
    "#                    15: 3679.4508023720323, \n",
    "#                    20: 3500.647630313722, \n",
    "#                    25: 3650.942082980467, \n",
    "#                    30: 3402.0801850812522, \n",
    "#                    40: 3452.729961408718, \n",
    "#                    50: 3638.2137870798892, \n",
    "#                    100: 3711.6300583976567, \n",
    "#                    150: 3516.341485960473, \n",
    "#                    200: 3683.8362375304023, \n",
    "#                    250: 3823.9704126606062}"
   ]
  },
  {
   "cell_type": "code",
   "execution_count": null,
   "id": "b0656601",
   "metadata": {},
   "outputs": [],
   "source": [
    "import matplotlib.pyplot as plt\n",
    "\n",
    "# Dados\n",
    "maeRandomForest = {  10: 3687.509308532358, 15: 3679.4508023720323, 20: 3500.647630313722, 25: 3650.942082980467, 30: 3402.0801850812522, \n",
    "           40: 3452.729961408718, 50: 3638.2137870798892, 100: 3711.6300583976567, 150: 3516.341485960473, \n",
    "           200: 3683.8362375304023, 250: 3823.9704126606062}\n",
    "\n",
    "plt.figure(figsize=(16, 8))\n",
    "\n",
    "# Obter os valores das chaves e dos valores\n",
    "x = list(maeRandomForest.keys())\n",
    "y = list(maeRandomForest.values())\n",
    "\n",
    "# Criar o gráfico de linhas\n",
    "plt.plot(x, y)\n",
    "\n",
    "# Definir os rótulos dos eixos\n",
    "plt.xlabel('Dias de lags (defasagem)')\n",
    "plt.ylabel('Valor do MAE (menor valor é preferível)')\n",
    "\n",
    "# Definir o título do gráfico\n",
    "plt.title('Evolução do MAE à medida que aumentamos o número de lags para o treinamento')\n",
    "\n",
    "# Exibir o gráfico\n",
    "plt.show()\n"
   ]
  },
  {
   "cell_type": "markdown",
   "id": "65f4ef33",
   "metadata": {},
   "source": [
    "<h3>Coluna Target<h3/>"
   ]
  },
  {
   "cell_type": "code",
   "execution_count": null,
   "id": "60b47f93",
   "metadata": {},
   "outputs": [],
   "source": [
    "dfNovo.head()"
   ]
  },
  {
   "cell_type": "code",
   "execution_count": null,
   "id": "bbd2ffbe",
   "metadata": {},
   "outputs": [],
   "source": [
    "pd.set_option('display.max_columns', 11)\n",
    "pd.set_option('display.max_rows', 11)"
   ]
  },
  {
   "cell_type": "code",
   "execution_count": null,
   "id": "2eb7a046",
   "metadata": {},
   "outputs": [],
   "source": [
    "dfClassif = pd.DataFrame()\n",
    "dfClassif = dfNovo.copy()"
   ]
  },
  {
   "cell_type": "code",
   "execution_count": null,
   "id": "148ba358",
   "metadata": {
    "scrolled": false
   },
   "outputs": [],
   "source": [
    "dfClassif = constroi_lags(dfClassif, ['Cripto Fechamento (R$)'], 30)\n",
    "dfClassif.head()"
   ]
  },
  {
   "cell_type": "code",
   "execution_count": null,
   "id": "056aa6d4",
   "metadata": {},
   "outputs": [],
   "source": [
    "# valor_antigo = 100\n",
    "# valor_novo = 95\n",
    "# diferenca = valor_novo - valor_antigo\n",
    "# diferenca_percentual = (diferenca / valor_antigo) * 100\n",
    "# diferenca_percentual"
   ]
  },
  {
   "cell_type": "code",
   "execution_count": null,
   "id": "832e2995",
   "metadata": {},
   "outputs": [],
   "source": [
    "def target(df):\n",
    "    df['lag_1'] = dfClassif['Cripto Fechamento (R$)'].shift(1)\n",
    "    df['dif'] = dfClassif['Cripto Fechamento (R$)'] - df['lag_1']\n",
    "    \n",
    "    # criando o Target para COMPRA (diferença positiva), em relação ao dia anterior.\n",
    "    df['Target'] = df['dif'].apply(lambda x: 1 if x > 0 else 0 )\n",
    "    \n",
    "    return df"
   ]
  },
  {
   "cell_type": "code",
   "execution_count": null,
   "id": "9840f9d8",
   "metadata": {},
   "outputs": [],
   "source": [
    "# def target(df):\n",
    "#     df['lag_1'] = dfClassif['Cripto Fechamento (R$)'].shift(1)\n",
    "#     df['dif'] = dfClassif['Cripto Fechamento (R$)'] - df['lag_1']\n",
    "#     df['perc'] = (df['dif'] / df['lag_1'] ) * 100\n",
    "#     # criando a target de subida ou descida do valor de fechamento\n",
    "#     # valor caiu  -> 0  (diferença negativa)\n",
    "#     # valor subiu -> 1  (diferença positva)\n",
    "#     df['Target'] = df['perc'].apply(lambda x: 1 if x >= 1 else 0 )\n",
    "#     return df"
   ]
  },
  {
   "cell_type": "code",
   "execution_count": null,
   "id": "e7dcada7",
   "metadata": {},
   "outputs": [],
   "source": [
    "# target(dfClassif)\n",
    "# dfClassif = dfClassif.drop(['dif','lag_1', 'IFR - Indicador','BB - Indicador','Suporte/Resistencia','LTA/LTB - Indicador'], axis=1)"
   ]
  },
  {
   "cell_type": "code",
   "execution_count": null,
   "id": "c1f12585",
   "metadata": {},
   "outputs": [],
   "source": [
    "target(dfClassif)\n",
    "#dfClassif = dfClassif.drop(['dif','lag_1', 'perc'], axis=1)\n",
    "dfClassif = dfClassif.drop(['dif','lag_1'], axis=1)"
   ]
  },
  {
   "cell_type": "code",
   "execution_count": null,
   "id": "bd7fa469",
   "metadata": {},
   "outputs": [],
   "source": [
    "dfClassif.head(10)"
   ]
  },
  {
   "cell_type": "code",
   "execution_count": null,
   "id": "f03a8a84",
   "metadata": {},
   "outputs": [],
   "source": [
    "# # Verificar o balanceamento da Target no dataset\n",
    "\n",
    "# const = pd.DataFrame(columns=['metric','0','1'])\n",
    "# const = const.append({'metric':'Target','0':dfClassif['Target'][dfClassif['Target']==0].count(),'1':dfClassif['Target'][dfClassif['Target']==1].count()}, ignore_index=True)\n",
    "# const_porcent = np.sum(const[const.metric=='Target'][['1']].values)/np.sum(const[const.metric=='Target'][['0','1']].values)\n",
    "# print(const)\n",
    "# print('Frequência targetH: %.2f%%' % (100*const_porcent))"
   ]
  },
  {
   "cell_type": "code",
   "execution_count": null,
   "id": "6c856f02",
   "metadata": {},
   "outputs": [],
   "source": [
    "cont = dfClassif['Target'].value_counts()\n",
    "percent = cont / len(dfClassif) * 100\n",
    "result = pd.concat([cont, percent.map(\"{:.2f}\".format)], axis=1, keys=['Quant.', '%'])\n",
    "print(result)"
   ]
  },
  {
   "cell_type": "markdown",
   "id": "0416219c",
   "metadata": {},
   "source": [
    "<h3>Modelos de Classificação<h3/>\n"
   ]
  },
  {
   "cell_type": "code",
   "execution_count": null,
   "id": "85402fd6",
   "metadata": {},
   "outputs": [],
   "source": [
    "from sklearn.model_selection import train_test_split\n",
    "from sklearn.metrics import roc_auc_score, roc_curve, classification_report, accuracy_score\n",
    "from sklearn.metrics import recall_score, precision_score, f1_score, confusion_matrix, auc\n",
    "\n",
    "\n",
    "dfClassif = dfClassif.dropna()\n",
    "for coluna in dfClassif.columns: dfClassif[coluna] = dfClassif[coluna].astype(float)\n",
    "y = dfClassif['Target']\n",
    "X = dfClassif.drop(['Target'], axis=1)\n",
    "X_train, X_test, y_train, y_test = train_test_split(X, y, test_size=0.2, random_state=1)\n",
    "\n",
    "# Dataset utilizando a útltima linha, para realizar a previsão do Target.\n",
    "X_pred = dfClassif.drop(['Target'], axis=1).tail(1)\n",
    "for coluna in X_pred.columns: X_pred[coluna] = X_pred[coluna].astype(float)"
   ]
  },
  {
   "cell_type": "code",
   "execution_count": null,
   "id": "88544409",
   "metadata": {},
   "outputs": [],
   "source": [
    "resultados = pd.DataFrame(columns=('Cripto','Modelo','Precision_Teste','Recall_Teste',\n",
    "                                  'Precision_Completo', 'Recall_Completo',\n",
    "                                   'Previsão'))\n",
    "resultados['Modelo'] = ['Árvore de Decisão','Random Forest','XGBoost']\n",
    "resultados['Cripto'] = valores.listaCriptos[criptoIndice][:3]"
   ]
  },
  {
   "cell_type": "markdown",
   "id": "739f7420",
   "metadata": {},
   "source": [
    "<h5>Árvore de Decisão<h5/>\n"
   ]
  },
  {
   "cell_type": "code",
   "execution_count": null,
   "id": "31bf9026",
   "metadata": {},
   "outputs": [],
   "source": [
    "from sklearn.tree import DecisionTreeClassifier\n",
    "\n",
    "model = DecisionTreeClassifier(max_depth=3)\n",
    "model = model.fit(X_train, y_train)\n",
    "y_prev = model.predict(X_test)\n",
    "accuracy = accuracy_score(y_test, y_prev)\n",
    "print(\"Accuracy: %.2f%%\" % (accuracy * 100.0))"
   ]
  },
  {
   "cell_type": "code",
   "execution_count": null,
   "id": "11397a2c",
   "metadata": {},
   "outputs": [],
   "source": [
    "# Criando a matriz de confusão\n",
    "ax = sns.heatmap(confusion_matrix(y_test, model.predict(X_test)),\n",
    "                 annot=True,\n",
    "                 annot_kws={\"fontsize\":10},\n",
    "                 fmt = 'd',\n",
    "                 cmap = 'Blues')"
   ]
  },
  {
   "cell_type": "code",
   "execution_count": null,
   "id": "4258f5ee",
   "metadata": {},
   "outputs": [],
   "source": [
    "# Criando as classificações de reporte\n",
    "print('\\n- Reporte completo')\n",
    "print(classification_report(y, model.predict(X)))\n",
    "print('\\n- Reporte teste')\n",
    "print(classification_report(y_test, model.predict(X_test)))"
   ]
  },
  {
   "cell_type": "code",
   "execution_count": null,
   "id": "2256db37",
   "metadata": {},
   "outputs": [],
   "source": [
    "resultados.loc[resultados['Modelo'] == 'Árvore de Decisão', 'Precision_Teste'] = precision_score(y_test, model.predict(X_test))\n",
    "resultados.loc[resultados['Modelo'] == 'Árvore de Decisão', 'Recall_Teste'] = recall_score(y_test, model.predict(X_test))\n",
    "resultados.loc[resultados['Modelo'] == 'Árvore de Decisão', 'Precision_Completo'] = precision_score(y, model.predict(X))\n",
    "resultados.loc[resultados['Modelo'] == 'Árvore de Decisão', 'Recall_Completo'] = recall_score(y, model.predict(X))\n",
    "resultados.loc[resultados['Modelo'] == 'Árvore de Decisão', 'Previsão'] = model.predict(X_pred).astype(float)\n",
    "resultados"
   ]
  },
  {
   "cell_type": "markdown",
   "id": "b6e69600",
   "metadata": {},
   "source": [
    "<h5>Random Forest<h5/>\n"
   ]
  },
  {
   "cell_type": "code",
   "execution_count": null,
   "id": "bb1b74e6",
   "metadata": {},
   "outputs": [],
   "source": [
    "from sklearn.ensemble import RandomForestClassifier\n",
    "\n",
    "model = RandomForestClassifier(max_depth=3)\n",
    "model = model.fit(X_train, y_train)\n",
    "y_prev = model.predict(X_test)\n",
    "accuracy = accuracy_score(y_test, y_prev)\n",
    "print(\"Accuracy: %.2f%%\" % (accuracy * 100.0))"
   ]
  },
  {
   "cell_type": "code",
   "execution_count": null,
   "id": "26ac9850",
   "metadata": {
    "scrolled": true
   },
   "outputs": [],
   "source": [
    "# Criando a matriz de confusão\n",
    "ax = sns.heatmap(confusion_matrix(y_test, model.predict(X_test)),\n",
    "                 annot=True,\n",
    "                 annot_kws={\"fontsize\":10},\n",
    "                 fmt = 'd',\n",
    "                 cmap = 'Blues')"
   ]
  },
  {
   "cell_type": "code",
   "execution_count": null,
   "id": "191db7c7",
   "metadata": {},
   "outputs": [],
   "source": [
    "# Criando as classificações de reporte\n",
    "print('\\n- Reporte completo')\n",
    "print(classification_report(y, model.predict(X)))\n",
    "print('\\n- Reporte teste')\n",
    "print(classification_report(y_test, model.predict(X_test)))"
   ]
  },
  {
   "cell_type": "code",
   "execution_count": null,
   "id": "3c22b7f4",
   "metadata": {},
   "outputs": [],
   "source": [
    "resultados.loc[resultados['Modelo'] == 'Random Forest', 'Precision_Teste'] = precision_score(y_test, model.predict(X_test))\n",
    "resultados.loc[resultados['Modelo'] == 'Random Forest', 'Recall_Teste'] = recall_score(y_test, model.predict(X_test))\n",
    "resultados.loc[resultados['Modelo'] == 'Random Forest', 'Precision_Completo'] = precision_score(y, model.predict(X))\n",
    "resultados.loc[resultados['Modelo'] == 'Random Forest', 'Recall_Completo'] = recall_score(y, model.predict(X))\n",
    "resultados.loc[resultados['Modelo'] == 'Random Forest', 'Previsão'] = model.predict(X_pred).astype(float)\n",
    "resultados"
   ]
  },
  {
   "cell_type": "markdown",
   "id": "75bba368",
   "metadata": {},
   "source": [
    "<h5>XGBoost<h5/>\n"
   ]
  },
  {
   "cell_type": "code",
   "execution_count": null,
   "id": "8b3b67eb",
   "metadata": {},
   "outputs": [],
   "source": [
    "from xgboost import XGBClassifier\n",
    "\n",
    "model = XGBClassifier(max_depth=3, objective='binary:logitraw')\n",
    "model.fit(X_train, y_train)\n",
    "y_prev = model.predict(X_test)\n",
    "accuracy = accuracy_score(y_test, y_prev)\n",
    "print(\"Accuracy: %.2f%%\" % (accuracy * 100.0))"
   ]
  },
  {
   "cell_type": "code",
   "execution_count": null,
   "id": "d4fda1dc",
   "metadata": {},
   "outputs": [],
   "source": [
    "# criando a matriz de confusão\n",
    "ax = sns.heatmap(confusion_matrix(y_test, model.predict(X_test)),\n",
    "                 annot=True,\n",
    "                 annot_kws={\"fontsize\":10},\n",
    "                 fmt = 'd',\n",
    "                 cmap = 'Blues')"
   ]
  },
  {
   "cell_type": "code",
   "execution_count": null,
   "id": "a24cf39f",
   "metadata": {
    "scrolled": true
   },
   "outputs": [],
   "source": [
    "# Criando as classificações de reporte\n",
    "print('\\n- Reporte completo')\n",
    "print(classification_report(y, model.predict(X)))\n",
    "print('\\n- Reporte teste')\n",
    "print(classification_report(y_test, model.predict(X_test)))"
   ]
  },
  {
   "cell_type": "code",
   "execution_count": null,
   "id": "010f8e27",
   "metadata": {},
   "outputs": [],
   "source": [
    "resultados.loc[resultados['Modelo'] == 'XGBoost', 'Precision_Teste'] = precision_score(y_test, model.predict(X_test))\n",
    "resultados.loc[resultados['Modelo'] == 'XGBoost', 'Recall_Teste'] = recall_score(y_test, model.predict(X_test))\n",
    "resultados.loc[resultados['Modelo'] == 'XGBoost', 'Precision_Completo'] = precision_score(y, model.predict(X))\n",
    "resultados.loc[resultados['Modelo'] == 'XGBoost', 'Recall_Completo'] = recall_score(y, model.predict(X))\n",
    "resultados.loc[resultados['Modelo'] == 'XGBoost', 'Previsão'] = model.predict(X_pred).astype(float)\n",
    "resultados"
   ]
  },
  {
   "cell_type": "code",
   "execution_count": null,
   "id": "7cf5a0d5",
   "metadata": {},
   "outputs": [],
   "source": [
    "feature_importance = model.feature_importances_\n",
    "sorted_idx = np.argsort(feature_importance)\n",
    "fig = plt.figure(figsize=(20, 20))\n",
    "plt.barh(range(len(sorted_idx)), feature_importance[sorted_idx], align='center')\n",
    "plt.yticks(range(len(sorted_idx)), np.array(X_test.columns)[sorted_idx])\n",
    "plt.title('Feature Importance')"
   ]
  }
 ],
 "metadata": {
  "kernelspec": {
   "display_name": "Python 3 (ipykernel)",
   "language": "python",
   "name": "python3"
  },
  "language_info": {
   "codemirror_mode": {
    "name": "ipython",
    "version": 3
   },
   "file_extension": ".py",
   "mimetype": "text/x-python",
   "name": "python",
   "nbconvert_exporter": "python",
   "pygments_lexer": "ipython3",
   "version": "3.9.12"
  }
 },
 "nbformat": 4,
 "nbformat_minor": 5
}
